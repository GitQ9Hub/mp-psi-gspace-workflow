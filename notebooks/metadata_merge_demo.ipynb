{
 "cells": [
  {
   "cell_type": "markdown",
   "id": "62ed5fca-3b51-4b37-8561-84c6b69f79c2",
   "metadata": {},
   "source": [
    "# Metadata Merge Demo: PSI × MP × G-Space\n",
    "\n",
    "This notebook simulates the integration of modular metadata from three sources:\n",
    "- PSI-166 (ISA-Tab)\n",
    "- Materials Project (MP)\n",
    "- G-Space simulation\n",
    "\n",
    "Each source provides structured metadata, and this demo shows how they can be merged and validated for downstream use."
   ]
  },
  {
   "cell_type": "markdown",
   "id": "75e205b6-1a29-46bc-a9ed-ba58d56ea1e5",
   "metadata": {},
   "source": [
    "## Input Files\n",
    "\n",
    "We use three fictitious metadata files stored in `notebooks/examples/`:\n",
    "- `fake_psi166_investigation.txt` → normalized in previous notebook\n",
    "- `mp_fake.yaml`\n",
    "- `gspace_fake.yaml`"
   ]
  },
  {
   "cell_type": "code",
   "execution_count": 2,
   "id": "b8ebad2c-e24b-4176-a76e-30c4198ae721",
   "metadata": {},
   "outputs": [],
   "source": [
    "import yaml"
   ]
  },
  {
   "cell_type": "code",
   "execution_count": 3,
   "id": "0bc19760-8210-4e7e-babd-dac5537a4cdc",
   "metadata": {},
   "outputs": [],
   "source": [
    "# Load PSI metadata from saved YAML\n",
    "with open(\"examples/normalized_psi166.yaml\", \"r\") as f:\n",
    "    psi_metadata = yaml.safe_load(f)"
   ]
  },
  {
   "cell_type": "markdown",
   "id": "181fb99e-17ed-4779-80f2-b6820d6e476c",
   "metadata": {},
   "source": [
    "## Step 4: Export Merged Metadata\n",
    "\n",
    "This final step saves the merged metadata to a YAML file for downstream workflows. The output preserves provenance tags and modular structure, making it compatible with validation tools and integration pipelines."
   ]
  },
  {
   "cell_type": "code",
   "execution_count": 4,
   "id": "697a2079-0e29-41d2-95fc-d8bef87c0c45",
   "metadata": {},
   "outputs": [],
   "source": [
    "# Load MP metadata\n",
    "with open(\"examples/mp_fake.yaml\", \"r\") as f:\n",
    "    mp_metadata = yaml.safe_load(f)\n",
    "\n",
    "# Load G-Space metadata\n",
    "with open(\"examples/gspace_fake.yaml\", \"r\") as f:\n",
    "    gspace_metadata = yaml.safe_load(f)"
   ]
  },
  {
   "cell_type": "code",
   "execution_count": 5,
   "id": "cb2eb2f4-6af4-4ab4-993f-e4e74e382319",
   "metadata": {},
   "outputs": [],
   "source": [
    "def merge_metadata(*sources):\n",
    "    \"\"\"\n",
    "    Simulates merging multiple metadata sources into a unified dictionary.\n",
    "    Adds provenance tags and preserves modular structure.\n",
    "    \"\"\"\n",
    "    merged = {\n",
    "        \"sources\": [],\n",
    "        \"merged_fields\": {}\n",
    "    }\n",
    "\n",
    "    for source in sources:\n",
    "        provenance = source.get(\"provenance\", \"unknown_source\")\n",
    "        merged[\"sources\"].append(provenance)\n",
    "        for key, value in source.items():\n",
    "            if key != \"provenance\":\n",
    "                merged[\"merged_fields\"][f\"{provenance}_{key}\"] = value\n",
    "\n",
    "    return merged\n",
    "\n",
    "# Run merge\n",
    "merged_metadata = merge_metadata(psi_metadata, mp_metadata, gspace_metadata)"
   ]
  },
  {
   "cell_type": "code",
   "execution_count": 6,
   "id": "9e54dba3-f4d0-4cad-8e84-bd27b4ca2a44",
   "metadata": {},
   "outputs": [
    {
     "name": "stdout",
     "output_type": "stream",
     "text": [
      "✅ Merged metadata saved to examples/merged_metadata_demo.yaml\n"
     ]
    }
   ],
   "source": [
    "# Export merged metadata to YAML\n",
    "output_path = \"examples/merged_metadata_demo.yaml\"\n",
    "\n",
    "with open(output_path, \"w\") as f:\n",
    "    yaml.dump(merged_metadata, f)\n",
    "\n",
    "print(f\"✅ Merged metadata saved to {output_path}\")"
   ]
  },
  {
   "cell_type": "code",
   "execution_count": null,
   "id": "3b21038e-b627-45a8-a1d6-fe822eeb8873",
   "metadata": {},
   "outputs": [],
   "source": []
  },
  {
   "cell_type": "code",
   "execution_count": null,
   "id": "f995837b-2151-4676-9f77-cebc4845ba9e",
   "metadata": {},
   "outputs": [],
   "source": []
  },
  {
   "cell_type": "code",
   "execution_count": null,
   "id": "78d6435b-440d-4fc8-91b7-c8d69078f7ae",
   "metadata": {},
   "outputs": [],
   "source": []
  },
  {
   "cell_type": "code",
   "execution_count": null,
   "id": "462be40c-16a9-464b-b4a4-525d7b55ba8c",
   "metadata": {},
   "outputs": [],
   "source": []
  },
  {
   "cell_type": "code",
   "execution_count": null,
   "id": "c6117a48-8c90-4c80-b0eb-fbeb415a8fe9",
   "metadata": {},
   "outputs": [],
   "source": []
  },
  {
   "cell_type": "code",
   "execution_count": null,
   "id": "fb68ccc1-836f-4583-8ee5-a0de7b6b4554",
   "metadata": {},
   "outputs": [],
   "source": []
  },
  {
   "cell_type": "code",
   "execution_count": null,
   "id": "eb8b96a1-15e3-49d1-9e51-b362444e80f7",
   "metadata": {},
   "outputs": [],
   "source": []
  },
  {
   "cell_type": "code",
   "execution_count": null,
   "id": "4797bec9-2486-433d-88c4-adbed7a6c77f",
   "metadata": {},
   "outputs": [],
   "source": []
  }
 ],
 "metadata": {
  "kernelspec": {
   "display_name": "Python3.11 (MatProjectPy311)",
   "language": "python",
   "name": "matprojectpy311"
  },
  "language_info": {
   "codemirror_mode": {
    "name": "ipython",
    "version": 3
   },
   "file_extension": ".py",
   "mimetype": "text/x-python",
   "name": "python",
   "nbconvert_exporter": "python",
   "pygments_lexer": "ipython3",
   "version": "3.11.11"
  }
 },
 "nbformat": 4,
 "nbformat_minor": 5
}
