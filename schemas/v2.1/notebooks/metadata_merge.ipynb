{
 "cells": [
  {
   "cell_type": "code",
   "execution_count": 1,
   "id": "493e6cee-ece9-4f5d-a826-9f046069070c",
   "metadata": {},
   "outputs": [
    {
     "data": {
      "text/plain": [
       "'/home/nanohub/q9/MP-PSI_Project'"
      ]
     },
     "execution_count": 1,
     "metadata": {},
     "output_type": "execute_result"
    }
   ],
   "source": [
    "pwd"
   ]
  },
  {
   "cell_type": "markdown",
   "id": "75e205b6-1a29-46bc-a9ed-ba58d56ea1e5",
   "metadata": {},
   "source": [
    "## 📓 Sample Notebook Overview\n",
    "### 🔧 Purpose\n",
    "To merge metadata from three sources:\n",
    "- mp_metadata.csv → from Materials Project API\n",
    "- psi_metadata.csv → manually downloaded from NASA PSI\n",
    "- gspace_metadata.json → exported from G-Space simulation"
   ]
  },
  {
   "cell_type": "markdown",
   "id": "82fe1416-7ce5-43b7-ab74-32b5812a1d59",
   "metadata": {},
   "source": [
    "## 🧠 Notebook Sections\n",
    "### 1️⃣ Setup & Import"
   ]
  },
  {
   "cell_type": "code",
   "execution_count": 5,
   "id": "b2eb2a5e-1cc1-4ffe-b60c-7ce572cd708a",
   "metadata": {},
   "outputs": [],
   "source": [
    "import pandas as pd\n",
    "import json\n",
    "from pathlib import Path\n",
    "\n",
    "# Define paths\n",
    "mp_path = Path(\"../data_raw/mp/mp_metadata.csv\")\n",
    "psi_path = Path(\"../data_raw/psi/psi_metadata.csv\")\n",
    "gspace_path = Path(\"../data_raw/gspace/gspace_metadata.json\")"
   ]
  },
  {
   "cell_type": "code",
   "execution_count": null,
   "id": "697a2079-0e29-41d2-95fc-d8bef87c0c45",
   "metadata": {},
   "outputs": [],
   "source": [
    " unzip /home/nanohub/q9/MP-PSI_Project/data_raw/psi/PSI-166_metadata_PSI-166-ISA.zip"
   ]
  },
  {
   "cell_type": "markdown",
   "id": "3062c911-8b26-4d95-bca5-1e6aa7c23b3c",
   "metadata": {},
   "source": [
    "### 2️⃣ Load Metadata"
   ]
  },
  {
   "cell_type": "code",
   "execution_count": null,
   "id": "9e54dba3-f4d0-4cad-8e84-bd27b4ca2a44",
   "metadata": {},
   "outputs": [],
   "source": [
    "# Load Materials Project metadata\n",
    "mp_df = pd.read_csv(mp_path)\n",
    "\n",
    "# Load PSI metadata\n",
    "psi_df = pd.read_csv(psi_path)\n",
    "\n",
    "# Load G-Space metadata\n",
    "with open(gspace_path) as f:\n",
    "    gspace_data = json.load(f)\n",
    "gspace_df = pd.json_normalize(gspace_data)"
   ]
  },
  {
   "cell_type": "markdown",
   "id": "08d7da59-bd2e-4571-bef6-292fdfed6493",
   "metadata": {},
   "source": [
    "## 3️⃣ Preview & Normalize Columns"
   ]
  },
  {
   "cell_type": "code",
   "execution_count": null,
   "id": "f995837b-2151-4676-9f77-cebc4845ba9e",
   "metadata": {},
   "outputs": [],
   "source": [
    "# Preview column names\n",
    "print(\"MP Columns:\", mp_df.columns.tolist())\n",
    "print(\"PSI Columns:\", psi_df.columns.tolist())\n",
    "print(\"G-Space Columns:\", gspace_df.columns.tolist())\n",
    "\n",
    "# Rename for consistency\n",
    "mp_df.rename(columns={\"composition\": \"material\", \"temperature_K\": \"temperature\"}, inplace=True)\n",
    "psi_df.rename(columns={\"alloy\": \"material\", \"temp_C\": \"temperature\"}, inplace=True)\n",
    "gspace_df.rename(columns={\"input.material\": \"material\", \"input.temp\": \"temperature\"}, inplace=True)"
   ]
  },
  {
   "cell_type": "markdown",
   "id": "23db0fd0-3e34-4213-bb95-ca7ae8cf2090",
   "metadata": {},
   "source": [
    "## 4️⃣ Merge Metadata"
   ]
  },
  {
   "cell_type": "code",
   "execution_count": null,
   "id": "462be40c-16a9-464b-b4a4-525d7b55ba8c",
   "metadata": {},
   "outputs": [],
   "source": [
    "# Concatenate all metadata\n",
    "merged_df = pd.concat([mp_df, psi_df, gspace_df], ignore_index=True)\n",
    "\n",
    "# Drop duplicates and sort\n",
    "merged_df.drop_duplicates(subset=[\"material\", \"temperature\"], inplace=True)\n",
    "merged_df.sort_values(by=[\"material\", \"temperature\"], inplace=True)"
   ]
  },
  {
   "cell_type": "markdown",
   "id": "dee69a92-fe2e-418f-abd8-ee6a975cfd79",
   "metadata": {},
   "source": [
    "## 5️⃣ Export Merged Metadata"
   ]
  },
  {
   "cell_type": "code",
   "execution_count": null,
   "id": "fb68ccc1-836f-4583-8ee5-a0de7b6b4554",
   "metadata": {},
   "outputs": [],
   "source": [
    "# Save to processed folder\n",
    "output_path = Path(\"../data_processed/merged_metadata.csv\")\n",
    "merged_df.to_csv(output_path, index=False)\n",
    "\n",
    "print(f\"Merged metadata saved to: {output_path}\")"
   ]
  },
  {
   "cell_type": "markdown",
   "id": "0f52ba41-2aad-48c6-8ac9-b8ca81c103ae",
   "metadata": {},
   "source": [
    "## 📌 Optional Enhancements\n",
    " - Add a source column to track origin (MP, PSI, G-Space)\n",
    " - Validate temperature units (convert °C to K if needed)\n",
    " - Use schema.json to enforce metadata standards"
   ]
  },
  {
   "cell_type": "code",
   "execution_count": null,
   "id": "4797bec9-2486-433d-88c4-adbed7a6c77f",
   "metadata": {},
   "outputs": [],
   "source": []
  }
 ],
 "metadata": {
  "kernelspec": {
   "display_name": "Python3.11 (MatProjectPy311)",
   "language": "python",
   "name": "matprojectpy311"
  },
  "language_info": {
   "codemirror_mode": {
    "name": "ipython",
    "version": 3
   },
   "file_extension": ".py",
   "mimetype": "text/x-python",
   "name": "python",
   "nbconvert_exporter": "python",
   "pygments_lexer": "ipython3",
   "version": "3.11.11"
  }
 },
 "nbformat": 4,
 "nbformat_minor": 5
}
