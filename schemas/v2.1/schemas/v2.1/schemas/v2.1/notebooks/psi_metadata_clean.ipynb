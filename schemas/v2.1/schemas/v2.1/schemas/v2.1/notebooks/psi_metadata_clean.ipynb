{
 "cells": [
  {
   "cell_type": "markdown",
   "id": "1be054d6-4e0c-47ec-b3b4-61b61c5d7971",
   "metadata": {},
   "source": [
    "# PSI Metadata Cleaning Notebook\n",
    "\n",
    "This notebook processes PSI-166 ISA-Tab metadata into a standardized CSV format (`psi_metadata.csv`) for integration with MP and G-Space datasets."
   ]
  },
  {
   "cell_type": "markdown",
   "id": "6fcaed0e-df09-4d8a-8081-fe95c3ba18d7",
   "metadata": {},
   "source": [
    "# 📦 2. Unzip the ISA-Tab Package"
   ]
  },
  {
   "cell_type": "code",
   "execution_count": 13,
   "id": "8a44a522-a99a-42d2-8029-a90947b918a3",
   "metadata": {},
   "outputs": [
    {
     "data": {
      "text/plain": [
       "'/home/nanohub/q9/MP-PSI_Project/notebooks'"
      ]
     },
     "execution_count": 13,
     "metadata": {},
     "output_type": "execute_result"
    }
   ],
   "source": [
    "pwd"
   ]
  },
  {
   "cell_type": "code",
   "execution_count": 2,
   "id": "b19c7480-98a9-4318-82ae-156f07ca4519",
   "metadata": {},
   "outputs": [
    {
     "name": "stdout",
     "output_type": "stream",
     "text": [
      "✅ Unzipped to: /home/nanohub/q9/MP-PSI_Project/data_raw/psi/psi_isa_extracted\n"
     ]
    }
   ],
   "source": [
    "import zipfile\n",
    "import os\n",
    "\n",
    "zip_path = \"/home/nanohub/q9/MP-PSI_Project/data_raw/psi/PSI-166_metadata_PSI-166-ISA.zip\"\n",
    "extract_path = \"/home/nanohub/q9/MP-PSI_Project/data_raw/psi/psi_isa_extracted\"\n",
    "\n",
    "# Create folder if it doesn't exist\n",
    "os.makedirs(extract_path, exist_ok=True)\n",
    "\n",
    "# Unzip\n",
    "with zipfile.ZipFile(zip_path, 'r') as zip_ref:\n",
    "    zip_ref.extractall(extract_path)\n",
    "\n",
    "print(\"✅ Unzipped to:\", extract_path)"
   ]
  },
  {
   "cell_type": "code",
   "execution_count": 4,
   "id": "d9a45ec0-0489-44ae-aed2-95e9cf6242b8",
   "metadata": {},
   "outputs": [],
   "source": [
    "import pandas as pd"
   ]
  },
  {
   "cell_type": "code",
   "execution_count": 6,
   "id": "61414d0a-aaec-4877-8b42-0c9da138f82e",
   "metadata": {},
   "outputs": [],
   "source": [
    "# Load the ISA sample file (tab-delimited)\n",
    "sample_file = \"/home/nanohub/q9/MP-PSI_Project/data_raw/psi/psi_isa_extracted/s_PSI-166.txt\"  # Adjust path if needed\n",
    "df = pd.read_csv(sample_file, sep='\\t', dtype=str)"
   ]
  },
  {
   "cell_type": "markdown",
   "id": "44e47af0-8856-4916-9fb9-56a8f66d3894",
   "metadata": {},
   "source": [
    "# Preview the first few rows"
   ]
  },
  {
   "cell_type": "code",
   "execution_count": 9,
   "id": "2e94ce36-6583-422f-af70-85dc294844d2",
   "metadata": {},
   "outputs": [
    {
     "name": "stdout",
     "output_type": "stream",
     "text": [
      "       Source Name      Sample Name\n",
      "0  Do not use this  Do not use this\n"
     ]
    }
   ],
   "source": [
    "print(df.head())"
   ]
  },
  {
   "cell_type": "markdown",
   "id": "bdb948f8-762e-45e1-ab6b-7144f0fc095b",
   "metadata": {},
   "source": [
    "# Save as CSV"
   ]
  },
  {
   "cell_type": "code",
   "execution_count": 10,
   "id": "d63288e4-a51b-4c74-bd2d-741b9d1dde1f",
   "metadata": {},
   "outputs": [
    {
     "name": "stdout",
     "output_type": "stream",
     "text": [
      "✅ CSV saved as: PSI-166_sample_metadata.csv\n"
     ]
    }
   ],
   "source": [
    "csv_output = \"PSI-166_sample_metadata.csv\"\n",
    "df.to_csv(csv_output, index=False)\n",
    "\n",
    "print(f\"✅ CSV saved as: {csv_output}\")"
   ]
  },
  {
   "cell_type": "markdown",
   "id": "78d22f35-48bf-4583-86f3-bfcca5ce4076",
   "metadata": {},
   "source": [
    "# Get and print the absolute path"
   ]
  },
  {
   "cell_type": "code",
   "execution_count": 12,
   "id": "456ad97d-8a12-41ed-a59d-f335e5adcc5a",
   "metadata": {},
   "outputs": [
    {
     "name": "stdout",
     "output_type": "stream",
     "text": [
      "📁 Full path to CSV: /home/nanohub/q9/MP-PSI_Project/notebooks/PSI-166_sample_metadata.csv\n"
     ]
    }
   ],
   "source": [
    "full_path = os.path.abspath(csv_output)\n",
    "print(f\"📁 Full path to CSV: {full_path}\")"
   ]
  },
  {
   "cell_type": "markdown",
   "id": "3f9af844-bfd6-4aa3-a966-a206ea82a47b",
   "metadata": {},
   "source": []
  },
  {
   "cell_type": "code",
   "execution_count": 8,
   "id": "f42c5be9-6f84-4f57-9eef-51efa3e6f908",
   "metadata": {},
   "outputs": [],
   "source": []
  },
  {
   "cell_type": "markdown",
   "id": "967393e0-c5d6-49e7-bdbb-51af791b0448",
   "metadata": {},
   "source": [
    "# 📄 3. Load Study File"
   ]
  },
  {
   "cell_type": "code",
   "execution_count": 14,
   "id": "a8b4d79d-9974-488a-a2d3-e5dc299b47c2",
   "metadata": {},
   "outputs": [
    {
     "name": "stdout",
     "output_type": "stream",
     "text": [
      "✅ Loaded study file with shape: (1, 1)\n"
     ]
    },
    {
     "data": {
      "text/html": [
       "<div>\n",
       "<style scoped>\n",
       "    .dataframe tbody tr th:only-of-type {\n",
       "        vertical-align: middle;\n",
       "    }\n",
       "\n",
       "    .dataframe tbody tr th {\n",
       "        vertical-align: top;\n",
       "    }\n",
       "\n",
       "    .dataframe thead th {\n",
       "        text-align: right;\n",
       "    }\n",
       "</style>\n",
       "<table border=\"1\" class=\"dataframe\">\n",
       "  <thead>\n",
       "    <tr style=\"text-align: right;\">\n",
       "      <th></th>\n",
       "      <th>Source Name,Sample Name</th>\n",
       "    </tr>\n",
       "  </thead>\n",
       "  <tbody>\n",
       "    <tr>\n",
       "      <th>0</th>\n",
       "      <td>Do not use this,Do not use this</td>\n",
       "    </tr>\n",
       "  </tbody>\n",
       "</table>\n",
       "</div>"
      ],
      "text/plain": [
       "           Source Name,Sample Name\n",
       "0  Do not use this,Do not use this"
      ]
     },
     "execution_count": 14,
     "metadata": {},
     "output_type": "execute_result"
    }
   ],
   "source": [
    "import pandas as pd\n",
    "psi_study = pd.read_csv(full_path, sep=\"\\t\")\n",
    "\n",
    "print(\"✅ Loaded study file with shape:\", psi_study.shape)\n",
    "psi_study.head()"
   ]
  },
  {
   "cell_type": "markdown",
   "id": "5ec3e8ad-7bb3-431d-b980-1c1d596c682b",
   "metadata": {},
   "source": [
    "# 🧹 4. Clean Column Names"
   ]
  },
  {
   "cell_type": "code",
   "execution_count": null,
   "id": "aab6bd25-1409-470b-b344-0c60040cbb7a",
   "metadata": {},
   "outputs": [],
   "source": [
    "# Simplify verbose ISA-Tab headers\n",
    "psi_study.columns = [col.replace(\"Characteristics[\", \"\").replace(\"Factor Value[\", \"\").replace(\"]\", \"\").strip() for col in psi_study.columns]\n",
    "\n",
    "psi_study.head()"
   ]
  },
  {
   "cell_type": "markdown",
   "id": "f5f2ce14-fb6b-4739-ab1c-70eb754c7336",
   "metadata": {},
   "source": [
    "# 🧬 5. Rename Columns to Match Schema"
   ]
  },
  {
   "cell_type": "code",
   "execution_count": null,
   "id": "e8dfd9f9-bf06-44f2-b30f-b1a5ab3fe5be",
   "metadata": {},
   "outputs": [],
   "source": [
    "# Rename to match expected schema for merging\n",
    "psi_study.rename(columns={\n",
    "    \"Material\": \"material_id\",\n",
    "    \"Temperature\": \"temperature\",\n",
    "    \"Gravity\": \"gravity_level\"\n",
    "}, inplace=True)\n",
    "\n",
    "psi_study.head()"
   ]
  },
  {
   "cell_type": "markdown",
   "id": "814a430a-6c16-4b96-9c0e-d95c7bd81a5d",
   "metadata": {},
   "source": [
    "# 📤 6. Export Cleaned Metadata"
   ]
  },
  {
   "cell_type": "code",
   "execution_count": null,
   "id": "f9f0d1e7-4dbf-4a1d-a201-8342d5d56e49",
   "metadata": {},
   "outputs": [],
   "source": [
    "output_path = \"data_processed/psi_metadata.csv\"\n",
    "os.makedirs(\"data_processed\", exist_ok=True)\n",
    "\n",
    "psi_study.to_csv(output_path, index=False)\n",
    "print(\"✅ Saved cleaned metadata to:\", output_path)"
   ]
  },
  {
   "cell_type": "markdown",
   "id": "2239b9aa-7c40-47a0-8eb2-4a83afc46c63",
   "metadata": {},
   "source": [
    "# 🧠 7. Optional: Validate Required Columns"
   ]
  },
  {
   "cell_type": "code",
   "execution_count": null,
   "id": "8ae56ae9-c322-4d5c-a5ee-13388fd223ff",
   "metadata": {},
   "outputs": [],
   "source": [
    "required_cols = [\"material_id\", \"temperature\", \"gravity_level\"]\n",
    "missing = [col for col in required_cols if col not in psi_study.columns]\n",
    "\n",
    "if missing:\n",
    "    print(\"⚠️ Missing columns:\", missing)\n",
    "else:\n",
    "    print(\"✅ All required columns present\")"
   ]
  }
 ],
 "metadata": {
  "kernelspec": {
   "display_name": "Python3.10 (MaterialsInformatics)",
   "language": "python",
   "name": "materialsinformatics"
  },
  "language_info": {
   "codemirror_mode": {
    "name": "ipython",
    "version": 3
   },
   "file_extension": ".py",
   "mimetype": "text/x-python",
   "name": "python",
   "nbconvert_exporter": "python",
   "pygments_lexer": "ipython3",
   "version": "3.10.15"
  }
 },
 "nbformat": 4,
 "nbformat_minor": 5
}
